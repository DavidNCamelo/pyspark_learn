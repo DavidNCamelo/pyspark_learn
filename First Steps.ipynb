{
 "cells": [
  {
   "cell_type": "code",
   "execution_count": 10,
   "id": "c02dd9a4-e9ef-47e5-b7c6-e6ca5de4b9d6",
   "metadata": {},
   "outputs": [],
   "source": [
    "import findspark\n",
    "findspark.init()\n",
    "#print(f\"Found Spark at: {findspark.find()}\")"
   ]
  },
  {
   "cell_type": "code",
   "execution_count": 11,
   "id": "4fcd6e7a-5797-4ee4-bb14-488eac7486d5",
   "metadata": {},
   "outputs": [
    {
     "name": "stderr",
     "output_type": "stream",
     "text": [
      "24/05/17 17:12:15 WARN Utils: Service 'SparkUI' could not bind on port 4040. Attempting port 4041.\n"
     ]
    }
   ],
   "source": [
    "import pyspark\n",
    "from pyspark.sql import SparkSession\n",
    "from pyspark.sql import Row\n",
    "from datetime import datetime, date\n",
    "\n",
    "# Inicializar una sesión de Spark\n",
    "spark = SparkSession.builder \\\n",
    "    .appName(\"test\") \\\n",
    "    .master(\"local[*]\") \\\n",
    "    .getOrCreate()\n",
    "\n",
    "# Verificar la versión de Spark\n",
    "#print(f\"Spark version: {spark.version}\")\n",
    "\n"
   ]
  },
  {
   "cell_type": "code",
   "execution_count": 12,
   "id": "543d64dc-93bc-4b8f-a46e-02504f3e9cc8",
   "metadata": {},
   "outputs": [
    {
     "name": "stdout",
     "output_type": "stream",
     "text": [
      "+---+---+-------+----------+-------------------+\n",
      "|  a|  b|      c|         d|                  e|\n",
      "+---+---+-------+----------+-------------------+\n",
      "|  1|2.0|string1|2000-01-01|2000-01-01 12:00:00|\n",
      "|  2|3.0|string2|2000-02-01|2000-01-02 12:00:00|\n",
      "|  4|5.0|string3|2000-03-01|2000-01-03 12:00:00|\n",
      "+---+---+-------+----------+-------------------+\n",
      "\n"
     ]
    }
   ],
   "source": [
    "# Crear un DataFrame de ejemplo y mostrarlo\n",
    "df = spark.createDataFrame([\n",
    "    Row(a=1, b=2., c='string1', d=date(2000, 1, 1), e=datetime(2000, 1, 1, 12, 0)),\n",
    "    Row(a=2, b=3., c='string2', d=date(2000, 2, 1), e=datetime(2000, 1, 2, 12, 0)),\n",
    "    Row(a=4, b=5., c='string3', d=date(2000, 3, 1), e=datetime(2000, 1, 3, 12, 0))\n",
    "])\n",
    "\n",
    "df.show()\n"
   ]
  },
  {
   "cell_type": "code",
   "execution_count": 13,
   "id": "e02bff8e-5816-483b-bdaf-9986d69e9326",
   "metadata": {},
   "outputs": [
    {
     "name": "stdout",
     "output_type": "stream",
     "text": [
      "+---+---+--------+----------+-------------------+\n",
      "|  a|  b|       c|         d|                  e|\n",
      "+---+---+--------+----------+-------------------+\n",
      "|  1|2.0|    Home|2025-01-01|2025-01-01 12:00:00|\n",
      "|  2|3.0|Building|2008-02-01|2008-01-02 12:00:00|\n",
      "|  4|5.0|sRoofTop|2022-03-01|2022-01-03 12:00:00|\n",
      "+---+---+--------+----------+-------------------+\n",
      "\n"
     ]
    }
   ],
   "source": [
    "df2 = spark.createDataFrame([\n",
    "    Row(a=1, b=2., c='Home', d=date(2025, 1, 1), e=datetime(2025, 1, 1, 12, 0)),\n",
    "    Row(a=2, b=3., c='Building', d=date(2008, 2, 1), e=datetime(2008, 1, 2, 12, 0)),\n",
    "    Row(a=4, b=5., c='sRoofTop', d=date(2022, 3, 1), e=datetime(2022, 1, 3, 12, 0))\n",
    "])\n",
    "\n",
    "df2.show()"
   ]
  },
  {
   "cell_type": "code",
   "execution_count": 14,
   "id": "2521e076-181b-4b53-9c32-b90445d05062",
   "metadata": {},
   "outputs": [],
   "source": [
    "spark.stop()"
   ]
  },
  {
   "cell_type": "code",
   "execution_count": null,
   "id": "b2cabae9-5044-4372-9ea2-1b3665fd3874",
   "metadata": {},
   "outputs": [],
   "source": []
  }
 ],
 "metadata": {
  "kernelspec": {
   "display_name": "Python 3 (ipykernel)",
   "language": "python",
   "name": "python3"
  },
  "language_info": {
   "codemirror_mode": {
    "name": "ipython",
    "version": 3
   },
   "file_extension": ".py",
   "mimetype": "text/x-python",
   "name": "python",
   "nbconvert_exporter": "python",
   "pygments_lexer": "ipython3",
   "version": "3.10.12"
  }
 },
 "nbformat": 4,
 "nbformat_minor": 5
}
